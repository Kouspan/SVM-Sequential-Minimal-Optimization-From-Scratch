{
 "cells": [
  {
   "cell_type": "code",
   "execution_count": 1,
   "metadata": {},
   "outputs": [],
   "source": [
    "import matplotlib.pyplot as plt\n",
    "import numpy as np\n",
    "from SVM import Svm\n",
    "import utils as ut\n",
    "import json"
   ]
  },
  {
   "cell_type": "code",
   "execution_count": 5,
   "outputs": [],
   "source": [
    "# process data and save them in .npy files in the './Processed/' folder\n",
    "PCA = 0.95\n",
    "ut.process_data(PCA,False)"
   ],
   "metadata": {
    "collapsed": false,
    "pycharm": {
     "name": "#%%\n"
    }
   }
  },
  {
   "cell_type": "markdown",
   "source": [
    "### Load Data and Choose 2 Classes\n",
    "\n",
    "Preprocessed data with MinMaxScaler and PCA(0.95).\n",
    "We pick class T-Shirts and class Boots.\n"
   ],
   "metadata": {
    "collapsed": false,
    "pycharm": {
     "name": "#%% md\n"
    }
   }
  },
  {
   "cell_type": "code",
   "execution_count": 7,
   "metadata": {
    "pycharm": {
     "name": "#%%\n"
    }
   },
   "outputs": [],
   "source": [
    "x_train = np.load(f'Processed/x_train_{PCA}.npy')\n",
    "x_test = np.load(f'Processed/x_test_{PCA}.npy')\n",
    "y_train = np.load('Processed/y_train.npy')\n",
    "y_test = np.load('Processed/y_test.npy')\n",
    "\n",
    "class1 = 0\n",
    "class2 = 9\n",
    "ind = np.logical_or(y_train == class1, y_train == class2)\n",
    "x_train = x_train[ind]\n",
    "y_train = y_train[ind]\n",
    "y_train[y_train == class1] = 1\n",
    "y_train[y_train == class2] = -1\n",
    "\n",
    "ind = np.logical_or(y_test == class1, y_test == class2)\n",
    "x_test = x_test[ind]\n",
    "y_test = y_test[ind]\n",
    "y_test[y_test == class1] = 1\n",
    "y_test[y_test == class2] = -1"
   ]
  },
  {
   "cell_type": "markdown",
   "metadata": {
    "pycharm": {
     "name": "#%% md\n"
    }
   },
   "source": [
    "### Linear Kernel Grid Search\n",
    "\n",
    "Training data size is (12000,188).\n",
    "Validation is done with 5-Fold Validation"
   ]
  },
  {
   "cell_type": "code",
   "execution_count": 47,
   "metadata": {
    "pycharm": {
     "name": "#%%\n"
    }
   },
   "outputs": [],
   "source": [
    "cs = [0.01, 0.1, 1, 10, 100, 1000]\n",
    "kernel = 'linear'"
   ]
  },
  {
   "cell_type": "code",
   "execution_count": 48,
   "outputs": [
    {
     "name": "stdout",
     "output_type": "stream",
     "text": [
      "Training: #0\n",
      "Model: linear, C: 0.013.055\r                                                                                                                                                                                                                              \n",
      "Cost: 0.058, Accuracies: 0.999, 0.999, Time: 4.026\n",
      "Training: #1\n",
      "Model: linear, C: 0.1 49.549\r                                                                                                                                                                                                                             \n",
      "Cost: -1.725, Accuracies: 0.952, 0.951, Time: 59.339\n",
      "Training: #2\n",
      "Model: linear, C: 1t: 168.852\r                                                                                                                                                                                                                            \n",
      "Cost: 13.855, Accuracies: 0.539, 0.534, Time: 142.093\n",
      "Training: #3\n",
      "Model: linear, C: 10: 159.766\r                                                                                                                                                                                                                            \n",
      "Cost: 27.389, Accuracies: 0.429, 0.426, Time: 134.673\n",
      "Training: #4\n",
      "Model: linear, C: 100 83.815\r\r                                                                                                                                                                                                                            \n",
      "Cost: 34.589, Accuracies: 0.437, 0.435, Time: 137.733\n",
      "Training: #5\n",
      "Model: linear, C: 1000178.540\r                                                                                                                                                                                                                            \n",
      "Cost: 17.753, Accuracies: 0.526, 0.523, Time: 152.711\n"
     ]
    }
   ],
   "source": [
    "res = ut.grid_search(cs, x_train, y_train, kernel)"
   ],
   "metadata": {
    "collapsed": false,
    "pycharm": {
     "name": "#%%\n"
    }
   }
  },
  {
   "cell_type": "markdown",
   "source": [
    "### Plot Linear Search\n",
    "\n",
    "Unpack statistics from grid search and plot mean test accuracies"
   ],
   "metadata": {
    "collapsed": false,
    "pycharm": {
     "name": "#%% md\n"
    }
   }
  },
  {
   "cell_type": "code",
   "execution_count": 50,
   "outputs": [],
   "source": [
    "json_file = open('./linear_search.json')\n",
    "lin_res_dict = json.load(json_file)\n",
    "res = [list(d.values()) for d in lin_res_dict.values()]"
   ],
   "metadata": {
    "collapsed": false,
    "pycharm": {
     "name": "#%%\n"
    }
   }
  },
  {
   "cell_type": "code",
   "execution_count": 51,
   "outputs": [],
   "source": [
    "cost, acc, time = zip(*res)\n",
    "acc = np.asarray(acc)\n",
    "import seaborn as sns\n",
    "import pandas as pd\n",
    "\n",
    "data = pd.DataFrame(data=acc.T, columns=cs)"
   ],
   "metadata": {
    "collapsed": false,
    "pycharm": {
     "name": "#%%\n"
    }
   }
  },
  {
   "cell_type": "code",
   "execution_count": 52,
   "outputs": [
    {
     "data": {
      "text/plain": "<Figure size 480x360 with 1 Axes>",
      "image/png": "[encoded data removed]"
     },
     "metadata": {},
     "output_type": "display_data"
    }
   ],
   "source": [
    "cols = [f\"C = {c}\" for c in cs]\n",
    "sns.set_theme(style=\"whitegrid\")\n",
    "\n",
    "g = sns.catplot(\n",
    "    data=data, kind=\"bar\",\n",
    "    ci=\"sd\", palette=\"dark\", alpha=.6, aspect=4 / 3, height=5, legend=False\n",
    ")\n",
    "\n",
    "g.despine(left=True)\n",
    "g.set_axis_labels(\"C\", \"Mean Accuracy\")\n",
    "g.fig.suptitle(\"Linear Search Accuracies, 5-Fold Validation\",\n",
    "    fontsize=14, fontdict={\"weight\": \"bold\"})\n",
    "g.savefig('./Plots/linear_search.svg', dpi=300, format='svg')"
   ],
   "metadata": {
    "collapsed": false,
    "pycharm": {
     "name": "#%%\n"
    }
   }
  },
  {
   "cell_type": "markdown",
   "source": [
    "We see that C = 0.01 gives the best results.\n",
    "\n",
    "So we train a linear SVM with C = 0.01 and validate it with the test data (x_test,y_test)."
   ],
   "metadata": {
    "collapsed": false,
    "pycharm": {
     "name": "#%% md\n"
    }
   }
  },
  {
   "cell_type": "code",
   "execution_count": 12,
   "outputs": [
    {
     "name": "stdout",
     "output_type": "stream",
     "text": [
      "Training time: 7.863, Predict Time: 0.003\n",
      "Test Accuracy: 0.9995\n",
      "nSV: 81, #iters: 46\n"
     ]
    }
   ],
   "source": [
    "import time\n",
    "svm_l001 = Svm(0.01, 'linear')\n",
    "tr_acc, tr_elapsed = svm_l001.fit(x_train.T, y_train)\n",
    "start = time.perf_counter()\n",
    "_v, _l, te_acc = svm_l001.predict(x_test.T, y_test)\n",
    "end = time.perf_counter()\n",
    "print(f\"Training time: {tr_elapsed:.3f}, Predict Time: {end-start:.3f}\\nTest Accuracy: {te_acc}\\nnSV: {svm_l001.sv.size}, #iters: {svm_l001.iters}\")"
   ],
   "metadata": {
    "collapsed": false,
    "pycharm": {
     "name": "#%%\n"
    }
   }
  },
  {
   "cell_type": "markdown",
   "metadata": {
    "pycharm": {
     "name": "#%% md\n"
    }
   },
   "source": [
    "## Radial Kernel Grid Search\n",
    "\n",
    "Each point in the grid is validated with K-Fold Validation for k = 5.\n",
    "Increase tolerance to 0.01 for decreased training time.\n",
    "Max iterations = 1000\n"
   ]
  },
  {
   "cell_type": "code",
   "execution_count": 37,
   "outputs": [],
   "source": [
    "gs = [0.001, 0.01, 0.1]\n",
    "cs2 = [0.1, 1, 10]\n",
    "kernel2 = 'radial'\n",
    "x, y = np.meshgrid(cs2, gs)\n",
    "grid = np.array([x.ravel(), y.ravel()])"
   ],
   "metadata": {
    "collapsed": false,
    "pycharm": {
     "name": "#%%\n"
    }
   }
  },
  {
   "cell_type": "code",
   "execution_count": 64,
   "outputs": [
    {
     "name": "stdout",
     "output_type": "stream",
     "text": [
      "Training: #0\n",
      "Model: radial, C: 0.1, gamma: 0.001                                                                                                                                                                                                                       \n",
      "Cost: -8537.282, Accuracies: 0.649, 0.644, Time: 10.289\n",
      "Training: #1\n",
      "Model: radial, C: 1.0, gamma: 0.001                                                                                                                                                                                                                       \n",
      "Cost: -66038.295, Accuracies: 0.784, 0.782, Time: 3.997\n",
      "Training: #2\n",
      "Model: radial, C: 10.0, gamma: 0.001                                                                                                                                                                                                                      \n",
      "Cost: -272809.385, Accuracies: 0.918, 0.917, Time: 18.957\n",
      "Training: #3\n",
      "Model: radial, C: 0.1, gamma: 0.01                                                                                                                                                                                                                        \n",
      "Cost: -1339.307, Accuracies: 0.747, 0.752, Time: 4.550\n",
      "Training: #4\n",
      "Model: radial, C: 1.0, gamma: 0.01                                                                                                                                                                                                                        \n",
      "Cost: -5188.904, Accuracies: 1.000, 0.999, Time: 7.321\n",
      "Training: #5\n",
      "Model: radial, C: 10.0, gamma: 0.01                                                                                                                                                                                                                       \n",
      "Cost: -25008.935, Accuracies: 0.706, 0.708, Time: 97.639\n",
      "Training: #6\n",
      "Model: radial, C: 0.1, gamma: 0.1                                                                                                                                                                                                                         \n",
      "Cost: -106770.167, Accuracies: 0.685, 0.685, Time: 42.972\n",
      "Training: #7\n",
      "Model: radial, C: 1.0, gamma: 0.1                                                                                                                                                                                                                         \n",
      "Cost: -1046687.592, Accuracies: 1.000, 0.998, Time: 627.852\n",
      "Training: #8\n",
      "Model: radial, C: 10.0, gamma: 0.1                                                                                                                                                                                                                        \n",
      "Cost: -23804484.897, Accuracies: 0.999, 0.999, Time: 1846.365\n"
     ]
    }
   ],
   "source": [
    "#WARNING: this search takes over 3 hours, do not run. The results are saved in 'radial_search.json', just run the next cell\n",
    "res_radial3 = ut.grid_search(grid, x_train, y_train, kernel2, tol=0.01)"
   ],
   "metadata": {
    "collapsed": false,
    "pycharm": {
     "name": "#%%\n"
    }
   }
  },
  {
   "cell_type": "markdown",
   "source": [
    "### Plot Radial Grid Search"
   ],
   "metadata": {
    "collapsed": false,
    "pycharm": {
     "name": "#%% md\n"
    }
   }
  },
  {
   "cell_type": "code",
   "execution_count": 38,
   "outputs": [],
   "source": [
    "# RUN THIS CELL TO GET THE SAVED RESULTS OF THE GRID SEARCH.\n",
    "json_file = open('./radial_search.json')\n",
    "rad_res_dict = json.load(json_file)\n",
    "res_radial3 = [list(d.values()) for d in rad_res_dict.values()]\n"
   ],
   "metadata": {
    "collapsed": false,
    "pycharm": {
     "name": "#%%\n"
    }
   }
  },
  {
   "cell_type": "code",
   "execution_count": 39,
   "outputs": [],
   "source": [
    "cost2, acc2, time2 = zip(*res_radial3)\n",
    "acc2 = np.asarray(acc2)\n",
    "time2 = np.asarray(time2)\n",
    "\n",
    "acc2mean = acc2.mean(axis=1)\n",
    "acc2std = acc2.std(axis=1)\n",
    "time2mean = time2.mean(axis=1)\n",
    "# acc2mean = acc2mean.reshape(3,3)\n",
    "\n",
    "data2 = np.array([grid[0], grid[1], acc2mean, acc2std, time2mean]).T\n",
    "dt2 = pd.DataFrame(data=data2, columns=['C', 'gamma', 'accuracy', 'std', 'time'])"
   ],
   "metadata": {
    "collapsed": false,
    "pycharm": {
     "name": "#%%\n"
    }
   }
  },
  {
   "cell_type": "code",
   "execution_count": 49,
   "outputs": [
    {
     "data": {
      "text/plain": "<Figure size 720x648 with 2 Axes>",
      "image/png": "[encoded data removed]"
     },
     "metadata": {},
     "output_type": "display_data"
    }
   ],
   "source": [
    "an = np.asarray([f\"std:{s:.3f}\\nt:{t // 60:.0f}:{t % 60:.0f}\" for s, t in zip(dt2['std'], dt2['time'])]).reshape(3, 3).T\n",
    "fig2, ax2 = plt.subplots()\n",
    "fig2.set(figheight=9,figwidth=10)\n",
    "ax2 = sns.heatmap(data=dt2.pivot('C', 'gamma', 'accuracy'), cmap='crest', annot=an, fmt='', vmin=0, vmax=1, ax=ax2, linewidth=0.1)\n",
    "ax2.set_title(\"Radial Search Accuracies, 5-Fold Validation\",\n",
    "    fontsize=12)\n",
    "fig2.tight_layout()\n",
    "fig2.savefig('./Plots/radial_search.svg', dpi=300, format='svg')"
   ],
   "metadata": {
    "collapsed": false,
    "pycharm": {
     "name": "#%%\n"
    }
   }
  },
  {
   "cell_type": "markdown",
   "source": [
    "C = 1.0 and gamma = 0.01 give the best results.\n",
    "\n",
    "We train and validate."
   ],
   "metadata": {
    "collapsed": false,
    "pycharm": {
     "name": "#%% md\n"
    }
   }
  },
  {
   "cell_type": "code",
   "execution_count": 298,
   "outputs": [
    {
     "name": "stdout",
     "output_type": "stream",
     "text": [
      "Training time: 6.637, Predict Time: 0.009\n",
      "Test Accuracy: 0.9995\n",
      "nSV: 95, #iters: 43\n"
     ]
    }
   ],
   "source": [
    "svm_r0011 = Svm(1, 'radial', g=0.01)\n",
    "tr_acc2, tr_elapsed2 = svm_r0011.fit(x_train.T, y_train)\n",
    "start = time.perf_counter()\n",
    "_v2, _l2, te_acc2 = svm_r0011.predict(x_test.T, y_test)\n",
    "end = time.perf_counter()\n",
    "print(f\"Training time: {tr_elapsed2:.3f}, Predict Time: {end-start:.3f}\\nTest Accuracy: {te_acc2}\\nnSV: {svm_r0011.sv.size}, #iters: {svm_r0011.iters}\")"
   ],
   "metadata": {
    "collapsed": false,
    "pycharm": {
     "name": "#%%\n"
    }
   }
  },
  {
   "cell_type": "markdown",
   "source": [
    "### Compare Results with KNN, CN and libsvm\n",
    "\n",
    "We train 3-NearestNeighbors, 1-NearestNeighbor and Nearest Centroid with the same data. We compare their results with our own SMV in test accuracy and training time.\n",
    "\n",
    "Repeat the above process with libsvm's svm for both linear and radial kernels. We leave the default values for libsvm, which are C = 1 and gamma = 1/num_features"
   ],
   "metadata": {
    "collapsed": false,
    "pycharm": {
     "name": "#%% md\n"
    }
   }
  },
  {
   "cell_type": "code",
   "execution_count": 215,
   "metadata": {
    "pycharm": {
     "name": "#%%\n"
    }
   },
   "outputs": [],
   "source": [
    "from sklearn.neighbors import KNeighborsClassifier, NearestCentroid\n",
    "\n",
    "knn3 = KNeighborsClassifier(n_neighbors=3, metric='euclidean')\n",
    "knn1 = KNeighborsClassifier(n_neighbors=1, metric='euclidean')\n",
    "cn = NearestCentroid()\n",
    "\n",
    "classifiers = [cn, knn1, knn3]"
   ]
  },
  {
   "cell_type": "code",
   "execution_count": 216,
   "metadata": {
    "pycharm": {
     "name": "#%%\n"
    }
   },
   "outputs": [
    {
     "name": "stdout",
     "output_type": "stream",
     "text": [
      "Accuracy: 99.3, Fit time: 0.017, Predict time: 0.004\n",
      "Accuracy: 99.9, Fit time: 0.004, Predict time: 0.458\n",
      "Accuracy: 99.85, Fit time: 0.003, Predict time: 0.511\n"
     ]
    }
   ],
   "source": [
    "from sklearn.metrics import confusion_matrix\n",
    "import time\n",
    "\n",
    "for c in classifiers:\n",
    "    start = time.perf_counter()\n",
    "    c.fit(x_train, y_train)\n",
    "    end = time.perf_counter()\n",
    "    y_pred = c.predict(x_test)\n",
    "    end2 = time.perf_counter()\n",
    "    cm = confusion_matrix(y_test, y_pred, normalize='all')\n",
    "    acc = 100 * cm.trace()\n",
    "    fit_time = end - start\n",
    "    pred_time = end2 - end\n",
    "    print(f\"Accuracy: {acc}, Fit time: {fit_time:0.3f}, Predict time: {pred_time:0.3f}\")\n"
   ]
  },
  {
   "cell_type": "code",
   "execution_count": 217,
   "metadata": {
    "pycharm": {
     "name": "#%%\n"
    }
   },
   "outputs": [],
   "source": [
    "import libsvm.svmutil as sv\n",
    "\n",
    "SVM = sv.svm_train(y_train, x_train)"
   ]
  },
  {
   "cell_type": "code",
   "execution_count": 218,
   "metadata": {
    "pycharm": {
     "name": "#%%\n"
    }
   },
   "outputs": [
    {
     "name": "stdout",
     "output_type": "stream",
     "text": [
      "Accuracy = 99.95% (1999/2000) (classification)\n"
     ]
    }
   ],
   "source": [
    "p_label, p_acc, p_val = sv.svm_predict(y_test, x_test, SVM)\n",
    "\n",
    "p_acc"
   ]
  },
  {
   "cell_type": "markdown",
   "source": [
    "### Different Classes for  Classification\n",
    "\n",
    "Class 1 is T-Shirts with label y = -1\n",
    "Class 2 is Coat with label y = 1"
   ],
   "metadata": {
    "collapsed": false,
    "pycharm": {
     "name": "#%% md\n"
    }
   }
  },
  {
   "cell_type": "code",
   "execution_count": 312,
   "metadata": {
    "pycharm": {
     "name": "#%%\n"
    }
   },
   "outputs": [],
   "source": [
    "\n",
    "x_train2 = np.load('Processed/x_train_0.95.npy')\n",
    "x_test2 = np.load('Processed/x_test_0.95.npy')\n",
    "y_train2 = np.load('Processed/y_train_0.95.npy')\n",
    "y_test2 = np.load('Processed/y_test_0.95.npy')\n",
    "\n",
    "class1 = 0\n",
    "class2 = 4\n",
    "\n",
    "ind1 = y_train2 ==class1\n",
    "ind2 = y_train2 ==class2\n",
    "y_train2 = np.ones(y_train2.shape)\n",
    "y_train2[ind1] = -1\n",
    "ind12 = np.logical_or(ind1,ind2)\n",
    "y_train2 = y_train2[ind12]\n",
    "x_train2 = x_train2[ind12]\n",
    "\n",
    "ind1 = y_test2==class1\n",
    "ind2 = y_test2==class2\n",
    "y_test2 = np.ones(y_test2.shape)\n",
    "y_test2[ind1] = -1\n",
    "ind12 = np.logical_or(ind1,ind2)\n",
    "y_test2 = y_test2[ind12]\n",
    "x_test2 = x_test2[ind12]"
   ]
  },
  {
   "cell_type": "code",
   "execution_count": 338,
   "outputs": [
    {
     "name": "stdout",
     "output_type": "stream",
     "text": [
      "Model:  C:0.1  Passes:  25\n",
      "Training Acc: 0.719,Testing Acc: 0.715 Time: 5.045\n",
      "SV size:  585\n"
     ]
    }
   ],
   "source": [
    "difl_svm = Svm(0.01,'linear',max_iter=5000)\n",
    "tr_acc_m,te_acc_m,tr_elapsed_m= ut.validate(difl_svm,x_train2,y_train2,x_test2,y_test2,25,'C:0.1')\n"
   ],
   "metadata": {
    "collapsed": false,
    "pycharm": {
     "name": "#%%\n"
    }
   }
  },
  {
   "cell_type": "code",
   "execution_count": 334,
   "outputs": [
    {
     "name": "stdout",
     "output_type": "stream",
     "text": [
      "Model:  C:10, g:0.001  Passes:  25\n",
      "Training Acc: 0.843,Testing Acc: 0.842 Time: 9.595\n",
      "SV size:  487\n"
     ]
    }
   ],
   "source": [
    "difr_svm = Svm(10,'radial',g=0.001)\n",
    "tr_acc_d,te_acc_d,tr_elapsed_d= ut.validate(difr_svm,x_train2,y_train2,x_test2,y_test2,25,'C:10, g:0.001')\n",
    "# print(f\"Training: Accuracy: {tr_acc_d:.3f}, Time: {tr_elapsed_d:.3f}s\")\n",
    "# print(f\"nSV: {difr_svm.sv.size}, #iter: {difr_svm.iters}\")\n",
    "# print(f\"Testing Accuracy: {te_acc_d:.3f}\")\n"
   ],
   "metadata": {
    "collapsed": false,
    "pycharm": {
     "name": "#%%\n"
    }
   }
  },
  {
   "cell_type": "code",
   "execution_count": 315,
   "outputs": [
    {
     "name": "stdout",
     "output_type": "stream",
     "text": [
      "Accuracy = 98.25% (1965/2000) (classification)\n",
      "Training time: 5.433, Predict time: 0.467\n"
     ]
    }
   ],
   "source": [
    "start = time.perf_counter()\n",
    "SVM = sv.svm_train(y_train2,x_train2,'-t 0')\n",
    "end = time.perf_counter()\n",
    "\n",
    "p_label2,p_acc2,p_val2 = sv.svm_predict(y_test2,x_test2,SVM)\n",
    "end2 = time.perf_counter()\n",
    "\n",
    "print(f\"Training time: {end-start:.3f}, Predict time: {end2-end:.3f}\")"
   ],
   "metadata": {
    "collapsed": false,
    "pycharm": {
     "name": "#%%\n"
    }
   }
  },
  {
   "cell_type": "code",
   "execution_count": 341,
   "outputs": [
    {
     "name": "stdout",
     "output_type": "stream",
     "text": [
      "Accuracy = 98.9% (1978/2000) (classification)\n",
      "Training time: 5.131, Predict time: 0.683\n"
     ]
    }
   ],
   "source": [
    "start = time.perf_counter()\n",
    "SVM2 = sv.svm_train(y_train2,x_train2)\n",
    "end = time.perf_counter()\n",
    "\n",
    "p_label3,p_acc3,p_val3 = sv.svm_predict(y_test2,x_test2,SVM2)\n",
    "end2 = time.perf_counter()\n",
    "\n",
    "print(f\"Training time: {end-start:.3f}, Predict time: {end2-end:.3f}\")"
   ],
   "metadata": {
    "collapsed": false,
    "pycharm": {
     "name": "#%%\n"
    }
   }
  }
 ],
 "metadata": {
  "kernelspec": {
   "display_name": "PyCharm (pycharmNotebook)",
   "language": "python",
   "name": "pycharm-cd9647ac"
  },
  "language_info": {
   "codemirror_mode": {
    "name": "ipython",
    "version": 3
   },
   "file_extension": ".py",
   "mimetype": "text/x-python",
   "name": "python",
   "nbconvert_exporter": "python",
   "pygments_lexer": "ipython3",
   "version": "3.9.7"
  }
 },
 "nbformat": 4,
 "nbformat_minor": 1
}